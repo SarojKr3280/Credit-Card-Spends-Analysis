{
 "cells": [
  {
   "cell_type": "code",
   "execution_count": 1,
   "id": "4623b19e",
   "metadata": {},
   "outputs": [],
   "source": [
    "import pandas as pd\n",
    "import matplotlib.pyplot as plt\n",
    "import numpy as np"
   ]
  },
  {
   "cell_type": "code",
   "execution_count": 2,
   "id": "0b42b28e",
   "metadata": {},
   "outputs": [],
   "source": [
    "import sys"
   ]
  },
  {
   "cell_type": "code",
   "execution_count": 3,
   "id": "7f7582fe",
   "metadata": {},
   "outputs": [
    {
     "data": {
      "text/plain": [
       "'C:\\\\Users\\\\91705\\\\Desktop\\\\EDULYT\\\\PROJECT 2'"
      ]
     },
     "execution_count": 3,
     "metadata": {},
     "output_type": "execute_result"
    }
   ],
   "source": [
    "import os \n",
    "os.getcwd()"
   ]
  },
  {
   "cell_type": "code",
   "execution_count": 4,
   "id": "81a14c22",
   "metadata": {},
   "outputs": [],
   "source": [
    "os.chdir('C:\\\\Users\\\\91705\\\\Desktop\\\\EDULYT\\\\PROJECT 2')"
   ]
  },
  {
   "cell_type": "code",
   "execution_count": 8,
   "id": "c12f2ec3",
   "metadata": {},
   "outputs": [
    {
     "data": {
      "text/html": [
       "<div>\n",
       "<style scoped>\n",
       "    .dataframe tbody tr th:only-of-type {\n",
       "        vertical-align: middle;\n",
       "    }\n",
       "\n",
       "    .dataframe tbody tr th {\n",
       "        vertical-align: top;\n",
       "    }\n",
       "\n",
       "    .dataframe thead th {\n",
       "        text-align: right;\n",
       "    }\n",
       "</style>\n",
       "<table border=\"1\" class=\"dataframe\">\n",
       "  <thead>\n",
       "    <tr style=\"text-align: right;\">\n",
       "      <th></th>\n",
       "      <th>City</th>\n",
       "      <th>Date</th>\n",
       "      <th>Card Type</th>\n",
       "      <th>Exp Type</th>\n",
       "      <th>Gender</th>\n",
       "      <th>Amount</th>\n",
       "    </tr>\n",
       "  </thead>\n",
       "  <tbody>\n",
       "    <tr>\n",
       "      <th>0</th>\n",
       "      <td>Delhi, India</td>\n",
       "      <td>29-Oct-14</td>\n",
       "      <td>Gold</td>\n",
       "      <td>Bills</td>\n",
       "      <td>F</td>\n",
       "      <td>82475</td>\n",
       "    </tr>\n",
       "    <tr>\n",
       "      <th>1</th>\n",
       "      <td>Greater Mumbai, India</td>\n",
       "      <td>22-Aug-14</td>\n",
       "      <td>Platinum</td>\n",
       "      <td>Bills</td>\n",
       "      <td>F</td>\n",
       "      <td>32555</td>\n",
       "    </tr>\n",
       "    <tr>\n",
       "      <th>2</th>\n",
       "      <td>Bengaluru, India</td>\n",
       "      <td>27-Aug-14</td>\n",
       "      <td>Silver</td>\n",
       "      <td>Bills</td>\n",
       "      <td>F</td>\n",
       "      <td>101738</td>\n",
       "    </tr>\n",
       "    <tr>\n",
       "      <th>3</th>\n",
       "      <td>Greater Mumbai, India</td>\n",
       "      <td>12-Apr-14</td>\n",
       "      <td>Signature</td>\n",
       "      <td>Bills</td>\n",
       "      <td>F</td>\n",
       "      <td>123424</td>\n",
       "    </tr>\n",
       "    <tr>\n",
       "      <th>4</th>\n",
       "      <td>Bengaluru, India</td>\n",
       "      <td>05-May-15</td>\n",
       "      <td>Gold</td>\n",
       "      <td>Bills</td>\n",
       "      <td>F</td>\n",
       "      <td>171574</td>\n",
       "    </tr>\n",
       "    <tr>\n",
       "      <th>...</th>\n",
       "      <td>...</td>\n",
       "      <td>...</td>\n",
       "      <td>...</td>\n",
       "      <td>...</td>\n",
       "      <td>...</td>\n",
       "      <td>...</td>\n",
       "    </tr>\n",
       "    <tr>\n",
       "      <th>26047</th>\n",
       "      <td>Kolkata, India</td>\n",
       "      <td>22-Jun-14</td>\n",
       "      <td>Silver</td>\n",
       "      <td>Travel</td>\n",
       "      <td>F</td>\n",
       "      <td>128191</td>\n",
       "    </tr>\n",
       "    <tr>\n",
       "      <th>26048</th>\n",
       "      <td>Pune, India</td>\n",
       "      <td>03-Aug-14</td>\n",
       "      <td>Signature</td>\n",
       "      <td>Travel</td>\n",
       "      <td>M</td>\n",
       "      <td>246316</td>\n",
       "    </tr>\n",
       "    <tr>\n",
       "      <th>26049</th>\n",
       "      <td>Hyderabad, India</td>\n",
       "      <td>16-Jan-15</td>\n",
       "      <td>Silver</td>\n",
       "      <td>Travel</td>\n",
       "      <td>M</td>\n",
       "      <td>265019</td>\n",
       "    </tr>\n",
       "    <tr>\n",
       "      <th>26050</th>\n",
       "      <td>Kanpur, India</td>\n",
       "      <td>14-Sep-14</td>\n",
       "      <td>Silver</td>\n",
       "      <td>Travel</td>\n",
       "      <td>M</td>\n",
       "      <td>88174</td>\n",
       "    </tr>\n",
       "    <tr>\n",
       "      <th>26051</th>\n",
       "      <td>Hyderabad, India</td>\n",
       "      <td>19-Oct-13</td>\n",
       "      <td>Signature</td>\n",
       "      <td>Bills</td>\n",
       "      <td>M</td>\n",
       "      <td>184410</td>\n",
       "    </tr>\n",
       "  </tbody>\n",
       "</table>\n",
       "<p>26052 rows × 6 columns</p>\n",
       "</div>"
      ],
      "text/plain": [
       "                        City       Date  Card Type Exp Type Gender  Amount\n",
       "0               Delhi, India  29-Oct-14       Gold    Bills      F   82475\n",
       "1      Greater Mumbai, India  22-Aug-14   Platinum    Bills      F   32555\n",
       "2           Bengaluru, India  27-Aug-14     Silver    Bills      F  101738\n",
       "3      Greater Mumbai, India  12-Apr-14  Signature    Bills      F  123424\n",
       "4           Bengaluru, India  05-May-15       Gold    Bills      F  171574\n",
       "...                      ...        ...        ...      ...    ...     ...\n",
       "26047         Kolkata, India  22-Jun-14     Silver   Travel      F  128191\n",
       "26048            Pune, India  03-Aug-14  Signature   Travel      M  246316\n",
       "26049       Hyderabad, India  16-Jan-15     Silver   Travel      M  265019\n",
       "26050          Kanpur, India  14-Sep-14     Silver   Travel      M   88174\n",
       "26051       Hyderabad, India  19-Oct-13  Signature    Bills      M  184410\n",
       "\n",
       "[26052 rows x 6 columns]"
      ]
     },
     "execution_count": 8,
     "metadata": {},
     "output_type": "execute_result"
    }
   ],
   "source": [
    "cct = pd.read_csv('Credit card transactions.csv')\n",
    "del cct['index']\n",
    "cct"
   ]
  },
  {
   "cell_type": "code",
   "execution_count": 64,
   "id": "0ea99255",
   "metadata": {},
   "outputs": [],
   "source": [
    "pd.options.display.max_rows = 5000"
   ]
  },
  {
   "cell_type": "code",
   "execution_count": 65,
   "id": "52f47a71",
   "metadata": {},
   "outputs": [
    {
     "name": "stdout",
     "output_type": "stream",
     "text": [
      "                      City  total_spend  percentage_contribution\n",
      "170  Greater Mumbai, India    576751476                    14.15\n",
      "71        Bengaluru, India    572326739                    14.05\n",
      "8         Ahmedabad, India    567794310                    13.93\n",
      "126           Delhi, India    556929212                    13.67\n",
      "267         Kolkata, India    115466943                     2.83\n"
     ]
    }
   ],
   "source": [
    "# 1st Question\n",
    "\n",
    "import pandas as pd\n",
    "\n",
    "df = pd.read_csv('Credit card transactions.csv')\n",
    "\n",
    "city_spend = df.groupby('City').agg(total_spend=('Amount', 'sum')).reset_index()\n",
    "\n",
    "city_spend['percentage_contribution'] = round((city_spend['total_spend'] / df['Amount'].sum()) * 100, 2)\n",
    "\n",
    "top_5_cities = city_spend.sort_values(by='total_spend', ascending=False).head(5)\n",
    "\n",
    "print(top_5_cities)\n"
   ]
  },
  {
   "cell_type": "code",
   "execution_count": 66,
   "id": "339d6f6e",
   "metadata": {},
   "outputs": [
    {
     "data": {
      "image/png": "[encoded data removed]",
      "text/plain": [
       "<Figure size 640x480 with 1 Axes>"
      ]
     },
     "metadata": {},
     "output_type": "display_data"
    }
   ],
   "source": [
    "plt.barh(top_5_cities['City'], top_5_cities['percentage_contribution'])\n",
    "plt.show()"
   ]
  },
  {
   "cell_type": "code",
   "execution_count": 67,
   "id": "c64cee29",
   "metadata": {
    "scrolled": true
   },
   "outputs": [
    {
     "data": {
      "text/html": [
       "<div>\n",
       "<style scoped>\n",
       "    .dataframe tbody tr th:only-of-type {\n",
       "        vertical-align: middle;\n",
       "    }\n",
       "\n",
       "    .dataframe tbody tr th {\n",
       "        vertical-align: top;\n",
       "    }\n",
       "\n",
       "    .dataframe thead th {\n",
       "        text-align: right;\n",
       "    }\n",
       "</style>\n",
       "<table border=\"1\" class=\"dataframe\">\n",
       "  <thead>\n",
       "    <tr style=\"text-align: right;\">\n",
       "      <th>Card Type</th>\n",
       "      <th>Gold</th>\n",
       "      <th>Platinum</th>\n",
       "      <th>Signature</th>\n",
       "      <th>Silver</th>\n",
       "      <th>Total</th>\n",
       "    </tr>\n",
       "    <tr>\n",
       "      <th>month</th>\n",
       "      <th></th>\n",
       "      <th></th>\n",
       "      <th></th>\n",
       "      <th></th>\n",
       "      <th></th>\n",
       "    </tr>\n",
       "  </thead>\n",
       "  <tbody>\n",
       "    <tr>\n",
       "      <th>1</th>\n",
       "      <td>110146204</td>\n",
       "      <td>112784373</td>\n",
       "      <td>98919381</td>\n",
       "      <td>109359598</td>\n",
       "      <td>431209556</td>\n",
       "    </tr>\n",
       "    <tr>\n",
       "      <th>10</th>\n",
       "      <td>98265077</td>\n",
       "      <td>97459080</td>\n",
       "      <td>115694418</td>\n",
       "      <td>108427432</td>\n",
       "      <td>419846007</td>\n",
       "    </tr>\n",
       "    <tr>\n",
       "      <th>12</th>\n",
       "      <td>96458848</td>\n",
       "      <td>101509431</td>\n",
       "      <td>107765498</td>\n",
       "      <td>111201638</td>\n",
       "      <td>416935415</td>\n",
       "    </tr>\n",
       "    <tr>\n",
       "      <th>4</th>\n",
       "      <td>100738615</td>\n",
       "      <td>106793699</td>\n",
       "      <td>102329658</td>\n",
       "      <td>106532762</td>\n",
       "      <td>416394734</td>\n",
       "    </tr>\n",
       "    <tr>\n",
       "      <th>3</th>\n",
       "      <td>99773193</td>\n",
       "      <td>104760684</td>\n",
       "      <td>91972657</td>\n",
       "      <td>113547912</td>\n",
       "      <td>410054446</td>\n",
       "    </tr>\n",
       "  </tbody>\n",
       "</table>\n",
       "</div>"
      ],
      "text/plain": [
       "Card Type       Gold   Platinum  Signature     Silver      Total\n",
       "month                                                           \n",
       "1          110146204  112784373   98919381  109359598  431209556\n",
       "10          98265077   97459080  115694418  108427432  419846007\n",
       "12          96458848  101509431  107765498  111201638  416935415\n",
       "4          100738615  106793699  102329658  106532762  416394734\n",
       "3           99773193  104760684   91972657  113547912  410054446"
      ]
     },
     "execution_count": 67,
     "metadata": {},
     "output_type": "execute_result"
    }
   ],
   "source": [
    "# 2nd question\n",
    "\n",
    "cct['month'] = pd.DatetimeIndex(cct['Date']).month\n",
    "\n",
    "highest_expense = pd.pivot_table(cct, values = 'Amount', \n",
    "                    index = 'month',\n",
    "                    columns = 'Card Type',\n",
    "                    aggfunc = 'sum'\n",
    "              )\n",
    "highest_expense\n",
    "highest_expense['Total'] = highest_expense.sum(axis = 1)\n",
    "highest_expenses = highest_expense.sort_values('Total', ascending = False).head()\n",
    "highest_expenses"
   ]
  },
  {
   "cell_type": "code",
   "execution_count": 14,
   "id": "fee78141",
   "metadata": {},
   "outputs": [],
   "source": [
    "del cct['month']"
   ]
  },
  {
   "cell_type": "code",
   "execution_count": 68,
   "id": "4adb30c5",
   "metadata": {},
   "outputs": [
    {
     "name": "stderr",
     "output_type": "stream",
     "text": [
      "C:\\Users\\91705\\AppData\\Local\\Temp\\ipykernel_19180\\4272645153.py:12: SettingWithCopyWarning: \n",
      "A value is trying to be set on a copy of a slice from a DataFrame.\n",
      "Try using .loc[row_indexer,col_indexer] = value instead\n",
      "\n",
      "See the caveats in the documentation: https://pandas.pydata.org/pandas-docs/stable/user_guide/indexing.html#returning-a-view-versus-a-copy\n",
      "  filtered_df['rank'] = filtered_df.groupby('Card Type')['Total_spend'].rank(method='first')#.astype(int)\n"
     ]
    },
    {
     "data": {
      "text/html": [
       "<style type=\"text/css\">\n",
       "</style>\n",
       "<table id=\"T_73a1f\">\n",
       "  <thead>\n",
       "    <tr>\n",
       "      <th id=\"T_73a1f_level0_col0\" class=\"col_heading level0 col0\" >index</th>\n",
       "      <th id=\"T_73a1f_level0_col1\" class=\"col_heading level0 col1\" >City</th>\n",
       "      <th id=\"T_73a1f_level0_col2\" class=\"col_heading level0 col2\" >Date</th>\n",
       "      <th id=\"T_73a1f_level0_col3\" class=\"col_heading level0 col3\" >Card Type</th>\n",
       "      <th id=\"T_73a1f_level0_col4\" class=\"col_heading level0 col4\" >Exp Type</th>\n",
       "      <th id=\"T_73a1f_level0_col5\" class=\"col_heading level0 col5\" >Gender</th>\n",
       "      <th id=\"T_73a1f_level0_col6\" class=\"col_heading level0 col6\" >Amount</th>\n",
       "      <th id=\"T_73a1f_level0_col7\" class=\"col_heading level0 col7\" >Total_spend</th>\n",
       "      <th id=\"T_73a1f_level0_col8\" class=\"col_heading level0 col8\" >rank</th>\n",
       "    </tr>\n",
       "  </thead>\n",
       "  <tbody>\n",
       "    <tr>\n",
       "      <td id=\"T_73a1f_row0_col0\" class=\"data row0 col0\" >13431</td>\n",
       "      <td id=\"T_73a1f_row0_col1\" class=\"data row0 col1\" >Delhi, India</td>\n",
       "      <td id=\"T_73a1f_row0_col2\" class=\"data row0 col2\" >01-Apr-14</td>\n",
       "      <td id=\"T_73a1f_row0_col3\" class=\"data row0 col3\" >Gold</td>\n",
       "      <td id=\"T_73a1f_row0_col4\" class=\"data row0 col4\" >Grocery</td>\n",
       "      <td id=\"T_73a1f_row0_col5\" class=\"data row0 col5\" >M</td>\n",
       "      <td id=\"T_73a1f_row0_col6\" class=\"data row0 col6\" >23697</td>\n",
       "      <td id=\"T_73a1f_row0_col7\" class=\"data row0 col7\" >1000956</td>\n",
       "      <td id=\"T_73a1f_row0_col8\" class=\"data row0 col8\" >1.000000</td>\n",
       "    </tr>\n",
       "    <tr>\n",
       "      <td id=\"T_73a1f_row1_col0\" class=\"data row1 col0\" >13960</td>\n",
       "      <td id=\"T_73a1f_row1_col1\" class=\"data row1 col1\" >Bengaluru, India</td>\n",
       "      <td id=\"T_73a1f_row1_col2\" class=\"data row1 col2\" >01-Apr-14</td>\n",
       "      <td id=\"T_73a1f_row1_col3\" class=\"data row1 col3\" >Silver</td>\n",
       "      <td id=\"T_73a1f_row1_col4\" class=\"data row1 col4\" >Entertainment</td>\n",
       "      <td id=\"T_73a1f_row1_col5\" class=\"data row1 col5\" >F</td>\n",
       "      <td id=\"T_73a1f_row1_col6\" class=\"data row1 col6\" >172789</td>\n",
       "      <td id=\"T_73a1f_row1_col7\" class=\"data row1 col7\" >1000757</td>\n",
       "      <td id=\"T_73a1f_row1_col8\" class=\"data row1 col8\" >1.000000</td>\n",
       "    </tr>\n",
       "    <tr>\n",
       "      <td id=\"T_73a1f_row2_col0\" class=\"data row2 col0\" >18394</td>\n",
       "      <td id=\"T_73a1f_row2_col1\" class=\"data row2 col1\" >Surandai, India</td>\n",
       "      <td id=\"T_73a1f_row2_col2\" class=\"data row2 col2\" >01-Apr-14</td>\n",
       "      <td id=\"T_73a1f_row2_col3\" class=\"data row2 col3\" >Platinum</td>\n",
       "      <td id=\"T_73a1f_row2_col4\" class=\"data row2 col4\" >Entertainment</td>\n",
       "      <td id=\"T_73a1f_row2_col5\" class=\"data row2 col5\" >F</td>\n",
       "      <td id=\"T_73a1f_row2_col6\" class=\"data row2 col6\" >290618</td>\n",
       "      <td id=\"T_73a1f_row2_col7\" class=\"data row2 col7\" >1060394</td>\n",
       "      <td id=\"T_73a1f_row2_col8\" class=\"data row2 col8\" >1.000000</td>\n",
       "    </tr>\n",
       "    <tr>\n",
       "      <td id=\"T_73a1f_row3_col0\" class=\"data row3 col0\" >20659</td>\n",
       "      <td id=\"T_73a1f_row3_col1\" class=\"data row3 col1\" >Jaipur, India</td>\n",
       "      <td id=\"T_73a1f_row3_col2\" class=\"data row3 col2\" >01-Apr-14</td>\n",
       "      <td id=\"T_73a1f_row3_col3\" class=\"data row3 col3\" >Signature</td>\n",
       "      <td id=\"T_73a1f_row3_col4\" class=\"data row3 col4\" >Bills</td>\n",
       "      <td id=\"T_73a1f_row3_col5\" class=\"data row3 col5\" >F</td>\n",
       "      <td id=\"T_73a1f_row3_col6\" class=\"data row3 col6\" >190198</td>\n",
       "      <td id=\"T_73a1f_row3_col7\" class=\"data row3 col7\" >1073671</td>\n",
       "      <td id=\"T_73a1f_row3_col8\" class=\"data row3 col8\" >1.000000</td>\n",
       "    </tr>\n",
       "  </tbody>\n",
       "</table>\n"
      ],
      "text/plain": [
       "<pandas.io.formats.style.Styler at 0x1f8fe1c6700>"
      ]
     },
     "execution_count": 68,
     "metadata": {},
     "output_type": "execute_result"
    }
   ],
   "source": [
    "# 3rd Question\n",
    "\n",
    "import pandas as pd\n",
    "\n",
    "df = pd.read_csv('Credit card transactions.csv')\n",
    "\n",
    "df['Total_spend'] = df.sort_values(by = ['Card Type', 'Date']).groupby('Card Type')['Amount'].cumsum()\n",
    "\n",
    "filtered_df = df[df['Total_spend'] >= 1000000]\n",
    "\n",
    "# Ranking the filtered data within each Card Type based on total_spend\n",
    "filtered_df['rank'] = filtered_df.groupby('Card Type')['Total_spend'].rank(method='first')#.astype(int)\n",
    "\n",
    "result = filtered_df[filtered_df['rank'] == 1]\n",
    "\n",
    "result.style.hide()"
   ]
  },
  {
   "cell_type": "code",
   "execution_count": 69,
   "id": "331e2bb7",
   "metadata": {},
   "outputs": [
    {
     "name": "stdout",
     "output_type": "stream",
     "text": [
      "                  City  gold_percentage\n",
      "0      Dhamtari, India         0.332988\n",
      "1         Solan, India         0.368009\n",
      "2          Suar, India         0.386459\n",
      "3      Bhiwandi, India         0.391836\n",
      "4  Bhadrachalam, India         0.400864\n",
      "5      Lalitpur, India         0.410332\n",
      "6    Uravakonda, India         0.534991\n",
      "7        Ranchi, India         0.572557\n",
      "8     Brahmapur, India         0.590578\n",
      "9    Samastipur, India         0.681926\n"
     ]
    }
   ],
   "source": [
    "# 4th question\n",
    "\n",
    "import pandas as pd\n",
    "\n",
    "df = pd.read_csv('Credit card transactions.csv')\n",
    "\n",
    "cte = df.groupby(['City', 'Card Type'], as_index=False).agg(\n",
    "    amount=('Amount', 'sum'),\n",
    "    gold_amount=('Amount', lambda x: x[df['Card Type'] == 'Gold'].sum())\n",
    ")\n",
    "\n",
    "result = cte.groupby('City', as_index=False).agg(\n",
    "    total_amount=('amount', 'sum'),\n",
    "    total_gold_amount=('gold_amount', 'sum')\n",
    ")\n",
    "result\n",
    "\n",
    "result['gold_percentage'] = result['total_gold_amount'] * 100 / result['total_amount']\n",
    "\n",
    "result = result[(result['total_gold_amount'].notna()) & (result['total_gold_amount'] > 0)]\n",
    "\n",
    "result = result.sort_values(by='gold_percentage').reset_index(drop=True)\n",
    "\n",
    "final_result = result[['City', 'gold_percentage']].head(10)\n",
    "\n",
    "print(final_result)"
   ]
  },
  {
   "cell_type": "code",
   "execution_count": 70,
   "id": "dde60b33",
   "metadata": {},
   "outputs": [
    {
     "data": {
      "image/png": "[encoded data removed]",
      "text/plain": [
       "<Figure size 640x480 with 1 Axes>"
      ]
     },
     "metadata": {},
     "output_type": "display_data"
    }
   ],
   "source": [
    "plt.barh(final_result['City'], final_result['gold_percentage'])\n",
    "plt.show()"
   ]
  },
  {
   "cell_type": "code",
   "execution_count": 71,
   "id": "358f9626",
   "metadata": {},
   "outputs": [
    {
     "name": "stdout",
     "output_type": "stream",
     "text": [
      "                City lowest_exp_type highest_exp_type\n",
      "0    Achalpur, India   Entertainment          Grocery\n",
      "1    Adilabad, India            Food            Bills\n",
      "2   Adityapur, India         Grocery             Food\n",
      "3       Adoni, India   Entertainment            Bills\n",
      "4       Adoor, India           Bills             Fuel\n",
      "5    Afzalpur, India            Food             Fuel\n",
      "6    Agartala, India            Food          Grocery\n",
      "7        Agra, India         Grocery            Bills\n",
      "8   Ahmedabad, India         Grocery            Bills\n",
      "9  Ahmednagar, India         Grocery             Fuel\n"
     ]
    }
   ],
   "source": [
    "# Question 5\n",
    "\n",
    "# Selecting distinct exp_type\n",
    "distinct_exp_types = cct['Exp Type'].unique()\n",
    "\n",
    "# Creating the CTE equivalent in Pandas\n",
    "cte = cct.groupby(['City', 'Exp Type'])['Amount'].sum().reset_index().rename(columns={'Amount': 'total_amount'})\n",
    "\n",
    "# Creating ranks based on total_amount\n",
    "cte['rn_desc'] = cte.groupby('City')['total_amount'].rank(method='dense', ascending=False)\n",
    "cte['rn_asc'] = cte.groupby('City')['total_amount'].rank(method='dense', ascending=True)\n",
    "\n",
    "# Finding the lowest and highest exp_type for each city\n",
    "result = cte.groupby('City').apply(lambda x: pd.Series({\n",
    "    'lowest_exp_type': x.loc[x['rn_asc'] == 1, 'Exp Type'].values[0],\n",
    "    'highest_exp_type': x.loc[x['rn_desc'] == 1, 'Exp Type'].values[0]\n",
    "})).reset_index()\n",
    "\n",
    "print(result.head(10))\n"
   ]
  },
  {
   "cell_type": "code",
   "execution_count": 72,
   "id": "8cf5c8d5",
   "metadata": {},
   "outputs": [
    {
     "name": "stdout",
     "output_type": "stream",
     "text": [
      "        Exp Type  Female_percent_contribution\n",
      "0          Bills                    14.234581\n",
      "1  Entertainment                     8.801914\n",
      "2           Food                    11.112535\n",
      "3           Fuel                     9.626956\n",
      "4        Grocery                     8.973299\n",
      "5         Travel                     1.370989\n"
     ]
    }
   ],
   "source": [
    "# Question 6\n",
    "\n",
    "df1 = cct.groupby('Exp Type').apply(\n",
    "    lambda x: x[x['Gender'] == 'F']['Amount'].sum()\n",
    ").reset_index(name='Female Contribution')\n",
    "df1\n",
    "\n",
    "df2 = cct.groupby(['Exp Type'])['Amount'].sum().reset_index().rename(columns={'Amount': 'Total amount'})\n",
    "df2\n",
    "df = df1.merge(df2, on = 'Exp Type')\n",
    "df\n",
    "\n",
    "df['Female_percent_contribution'] = df['Female Contribution']/(cct['Amount'].sum()) * 100\n",
    "\n",
    "result = df[['Exp Type','Female_percent_contribution']]\n",
    "print(result)"
   ]
  },
  {
   "cell_type": "code",
   "execution_count": 74,
   "id": "197b0156",
   "metadata": {},
   "outputs": [
    {
     "data": {
      "image/png": "[encoded data removed]",
      "text/plain": [
       "<Figure size 640x480 with 1 Axes>"
      ]
     },
     "metadata": {},
     "output_type": "display_data"
    }
   ],
   "source": [
    "plt.bar(result['Exp Type'], result['Female_percent_contribution'] )\n",
    "plt.xlabel('Expense Type')\n",
    "plt.ylabel('Female_percent_contribution')\n",
    "plt.show()"
   ]
  },
  {
   "cell_type": "code",
   "execution_count": 75,
   "id": "dcf7710b",
   "metadata": {},
   "outputs": [
    {
     "data": {
      "text/html": [
       "<style type=\"text/css\">\n",
       "</style>\n",
       "<table id=\"T_3d633\">\n",
       "  <thead>\n",
       "    <tr>\n",
       "      <th id=\"T_3d633_level0_col0\" class=\"col_heading level0 col0\" >Card Type</th>\n",
       "      <th id=\"T_3d633_level0_col1\" class=\"col_heading level0 col1\" >Exp Type</th>\n",
       "      <th id=\"T_3d633_level0_col2\" class=\"col_heading level0 col2\" >yt</th>\n",
       "      <th id=\"T_3d633_level0_col3\" class=\"col_heading level0 col3\" >mt</th>\n",
       "      <th id=\"T_3d633_level0_col4\" class=\"col_heading level0 col4\" >total_spend</th>\n",
       "      <th id=\"T_3d633_level0_col5\" class=\"col_heading level0 col5\" >prev_month_spend</th>\n",
       "      <th id=\"T_3d633_level0_col6\" class=\"col_heading level0 col6\" >month_growth</th>\n",
       "    </tr>\n",
       "  </thead>\n",
       "  <tbody>\n",
       "    <tr>\n",
       "      <td id=\"T_3d633_row0_col0\" class=\"data row0 col0\" >Gold</td>\n",
       "      <td id=\"T_3d633_row0_col1\" class=\"data row0 col1\" >Travel</td>\n",
       "      <td id=\"T_3d633_row0_col2\" class=\"data row0 col2\" >2014</td>\n",
       "      <td id=\"T_3d633_row0_col3\" class=\"data row0 col3\" >1</td>\n",
       "      <td id=\"T_3d633_row0_col4\" class=\"data row0 col4\" >2092554</td>\n",
       "      <td id=\"T_3d633_row0_col5\" class=\"data row0 col5\" >1113534.000000</td>\n",
       "      <td id=\"T_3d633_row0_col6\" class=\"data row0 col6\" >87.920081</td>\n",
       "    </tr>\n",
       "  </tbody>\n",
       "</table>\n"
      ],
      "text/plain": [
       "<pandas.io.formats.style.Styler at 0x1f8fdfce550>"
      ]
     },
     "execution_count": 75,
     "metadata": {},
     "output_type": "execute_result"
    }
   ],
   "source": [
    "# 7th Question\n",
    "\n",
    "df = pd.read_csv('Credit card transactions.csv')\n",
    "\n",
    "# Extracting year and month from transaction_date\n",
    "df['yt'] = pd.to_datetime(df['Date']).dt.year\n",
    "df['mt'] = pd.to_datetime(df['Date']).dt.month\n",
    "\n",
    "# Grouping by card_type, exp_type, year, and month, then calculate total_spend\n",
    "cte = df.groupby(['Card Type', 'Exp Type', 'yt', 'mt'], as_index=False)['Amount'].sum()\n",
    "cte.rename(columns={'Amount': 'total_spend'}, inplace=True)\n",
    "cte \n",
    "\n",
    "# Calculating the previous month's spend using the `shift` function\n",
    "cte['prev_month_spend'] = cte.sort_values(['yt', 'mt']).groupby(['Card Type', 'Exp Type'])['total_spend'].shift(1)\n",
    "\n",
    "# Calculating month-over-month growth\n",
    "cte['month_growth'] = ((cte['total_spend'] - cte['prev_month_spend'])/cte['prev_month_spend'])*100\n",
    "\n",
    "# Filtering for January 2014 where prev_month_spend is not null\n",
    "jan_2014_data = cte[(cte['yt'] == 2014) & (cte['mt'] == 1) & (cte['prev_month_spend'].notnull())]\n",
    "\n",
    "# # Get the top 1 row with the highest month-over-month growth\n",
    "result = jan_2014_data.sort_values(by='month_growth', ascending=False).head(1).style.hide()\n",
    "\n",
    "result"
   ]
  },
  {
   "cell_type": "code",
   "execution_count": 76,
   "id": "b4631b40",
   "metadata": {},
   "outputs": [
    {
     "name": "stdout",
     "output_type": "stream",
     "text": [
      "             City     ratio\n",
      "0  Sonepur, India  299905.0\n"
     ]
    }
   ],
   "source": [
    "# 8th Question\n",
    "\n",
    "import pandas as pd\n",
    "df = pd.read_csv('Credit card transactions.csv')\n",
    "\n",
    "# Converting transaction_date to datetime\n",
    "df['Date'] = pd.to_datetime(df['Date'])\n",
    "\n",
    "# Filtering for transactions that occurred on Saturday or Sunday\n",
    "weekend_df = df[df['Date'].dt.weekday.isin([5,6])]\n",
    "weekend_df\n",
    "\n",
    "# Group by city and calculate the ratio (sum(amount) / count)\n",
    "grouped = weekend_df.groupby('City').agg(\n",
    "    total_amount = ('Amount', 'sum'),\n",
    "    count = ('Amount', 'count')\n",
    ")\n",
    "\n",
    "grouped['ratio'] = grouped['total_amount'] * 1.0 / grouped['count']\n",
    "\n",
    "# Sorting by ratio in descending order and select the top 1 city\n",
    "result = grouped.sort_values(by='ratio', ascending=False).head(1)\n",
    "\n",
    "final_result = result[['ratio']].reset_index()\n",
    "\n",
    "print(final_result)"
   ]
  },
  {
   "cell_type": "code",
   "execution_count": 77,
   "id": "aa75d1f2",
   "metadata": {},
   "outputs": [
    {
     "name": "stdout",
     "output_type": "stream",
     "text": [
      "               City  Days_count\n",
      "0  Bengaluru, India          81\n"
     ]
    }
   ],
   "source": [
    "# 9th Question\n",
    "\n",
    "import pandas as pd\n",
    "df = pd.read_csv('Credit card transactions.csv')\n",
    "\n",
    "# Adding row numbers within each city\n",
    "df['Date'] = pd.to_datetime(df['Date'])\n",
    "df['rn'] = df.sort_values('Date').groupby('City').cumcount() + 1\n",
    "\n",
    "\n",
    "# Filtering for rows where rank is 1 or 500\n",
    "filtered_df = df[df['rn'].isin([1, 500])]\n",
    "filtered_df\n",
    "\n",
    "# Grouping by city and calculate the date difference\n",
    "grouped = filtered_df.groupby('City').agg(\n",
    "    min_date=('Date', 'min'),\n",
    "    max_date=('Date', 'max'),\n",
    "    count=('Date', 'count')\n",
    ")\n",
    "\n",
    "grouped = grouped[grouped['count'] == 2]  # Only consider cities with exactly 2 rows (rn=1 and rn=500)\n",
    "grouped['Days_count'] = (grouped['max_date'] - grouped['min_date']).dt.days\n",
    "\n",
    "# Order by datediff1 and select the top 1 city\n",
    "result = grouped.sort_values(by='Days_count').head(1)\n",
    "\n",
    "final_result = result[['Days_count']].reset_index()\n",
    "\n",
    "print(final_result)\n"
   ]
  },
  {
   "cell_type": "code",
   "execution_count": null,
   "id": "d7cb8d26",
   "metadata": {},
   "outputs": [],
   "source": []
  },
  {
   "cell_type": "code",
   "execution_count": null,
   "id": "ebbcce0a",
   "metadata": {},
   "outputs": [],
   "source": []
  }
 ],
 "metadata": {
  "kernelspec": {
   "display_name": "Python 3 (ipykernel)",
   "language": "python",
   "name": "python3"
  },
  "language_info": {
   "codemirror_mode": {
    "name": "ipython",
    "version": 3
   },
   "file_extension": ".py",
   "mimetype": "text/x-python",
   "name": "python",
   "nbconvert_exporter": "python",
   "pygments_lexer": "ipython3",
   "version": "3.9.13"
  }
 },
 "nbformat": 4,
 "nbformat_minor": 5
}
